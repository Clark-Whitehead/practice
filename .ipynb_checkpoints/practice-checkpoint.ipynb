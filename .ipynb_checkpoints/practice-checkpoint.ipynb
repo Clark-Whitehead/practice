{
 "cells": [
  {
   "cell_type": "code",
   "execution_count": 2,
   "metadata": {},
   "outputs": [],
   "source": [
    "#Sort this list of dictionaries by age in descending order\n",
    "list_of_dicts = [\n",
    "    {\"name\": \"Alice\", \"age\": 30},\n",
    "    {\"name\": \"Bob\", \"age\": 25},\n",
    "    {\"name\": \"Charlie\", \"age\": 35}\n",
    "]\n",
    "\n",
    "####ANSWER############################################################################################### sorted(list_of_dicts, key = lambda x : -x['age'])"
   ]
  },
  {
   "cell_type": "code",
   "execution_count": 3,
   "metadata": {},
   "outputs": [
    {
     "data": {
      "text/plain": [
       "[{'name': 'Charlie', 'age': 35},\n",
       " {'name': 'Alice', 'age': 30},\n",
       " {'name': 'Bob', 'age': 25}]"
      ]
     },
     "execution_count": 3,
     "metadata": {},
     "output_type": "execute_result"
    }
   ],
   "source": [
    "sorted(list_of_dicts, key = lambda x : -x['age'])"
   ]
  },
  {
   "cell_type": "code",
   "execution_count": null,
   "metadata": {},
   "outputs": [],
   "source": []
  },
  {
   "cell_type": "code",
   "execution_count": 4,
   "metadata": {},
   "outputs": [
    {
     "name": "stdout",
     "output_type": "stream",
     "text": [
      "('c', 'l')\n",
      "('l', 'a')\n",
      "('a', 'r')\n",
      "('r', 'k')\n"
     ]
    }
   ],
   "source": [
    "#print a bigram of the name clark\n",
    "name = [\"c\", \"l\", \"a\", \"r\", \"k\"]\n",
    "\n",
    "#####ANSWER###############################################################################################for bigram in zip(name, name[1:]):\n",
    "#####ANSWER##################################################################################################print(bigram)"
   ]
  }
 ],
 "metadata": {
  "kernelspec": {
   "display_name": "Python 3",
   "language": "python",
   "name": "python3"
  },
  "language_info": {
   "codemirror_mode": {
    "name": "ipython",
    "version": 3
   },
   "file_extension": ".py",
   "mimetype": "text/x-python",
   "name": "python",
   "nbconvert_exporter": "python",
   "pygments_lexer": "ipython3",
   "version": "3.8.10"
  }
 },
 "nbformat": 4,
 "nbformat_minor": 4
}
